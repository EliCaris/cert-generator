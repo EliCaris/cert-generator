{
 "cells": [
  {
   "cell_type": "code",
   "execution_count": 35,
   "metadata": {},
   "outputs": [],
   "source": [
    "import pandas as pd\n",
    "from fpdf import FPDF\n",
    "import os"
   ]
  },
  {
   "cell_type": "code",
   "execution_count": 46,
   "metadata": {},
   "outputs": [
    {
     "data": {
      "text/html": [
       "<div>\n",
       "<style scoped>\n",
       "    .dataframe tbody tr th:only-of-type {\n",
       "        vertical-align: middle;\n",
       "    }\n",
       "\n",
       "    .dataframe tbody tr th {\n",
       "        vertical-align: top;\n",
       "    }\n",
       "\n",
       "    .dataframe thead th {\n",
       "        text-align: right;\n",
       "    }\n",
       "</style>\n",
       "<table border=\"1\" class=\"dataframe\">\n",
       "  <thead>\n",
       "    <tr style=\"text-align: right;\">\n",
       "      <th></th>\n",
       "      <th>nomecompleto</th>\n",
       "      <th>email</th>\n",
       "      <th>telefone</th>\n",
       "    </tr>\n",
       "  </thead>\n",
       "  <tbody>\n",
       "    <tr>\n",
       "      <th>0</th>\n",
       "      <td>Otávio Dias</td>\n",
       "      <td>otavio.dias@email.com</td>\n",
       "      <td>11699876567</td>\n",
       "    </tr>\n",
       "    <tr>\n",
       "      <th>1</th>\n",
       "      <td>Rafael Alcantara</td>\n",
       "      <td>rafa@gmail.com</td>\n",
       "      <td>31995022354</td>\n",
       "    </tr>\n",
       "    <tr>\n",
       "      <th>2</th>\n",
       "      <td>Heliana Mara</td>\n",
       "      <td>heliana@gmail.com</td>\n",
       "      <td>31999432354</td>\n",
       "    </tr>\n",
       "    <tr>\n",
       "      <th>3</th>\n",
       "      <td>Carla Manu</td>\n",
       "      <td>carla@gmail.com</td>\n",
       "      <td>32316545621</td>\n",
       "    </tr>\n",
       "    <tr>\n",
       "      <th>4</th>\n",
       "      <td>Manoel Paivas</td>\n",
       "      <td>manoel@gmail.com</td>\n",
       "      <td>32345650223</td>\n",
       "    </tr>\n",
       "  </tbody>\n",
       "</table>\n",
       "</div>"
      ],
      "text/plain": [
       "       nomecompleto                  email     telefone\n",
       "0       Otávio Dias  otavio.dias@email.com  11699876567\n",
       "1  Rafael Alcantara         rafa@gmail.com  31995022354\n",
       "2      Heliana Mara     heliana@gmail.com   31999432354\n",
       "3        Carla Manu        carla@gmail.com  32316545621\n",
       "4     Manoel Paivas       manoel@gmail.com  32345650223"
      ]
     },
     "execution_count": 46,
     "metadata": {},
     "output_type": "execute_result"
    }
   ],
   "source": [
    "dados = pd.read_csv(\"dados.csv\")\n",
    "dados.head()"
   ]
  },
  {
   "cell_type": "code",
   "execution_count": 47,
   "metadata": {},
   "outputs": [],
   "source": [
    "titulo = \"CERTIFICADO DE PARTICIPAÇÃO\"\n",
    "subtitulo = \"Este certificado comprova que\"\n",
    "texto2 = \"Concluiu com êxito o curso GRATUITO DE PYTHON ministrado por\"\n",
    "texto3 = \"PROF. HENRY TELES ARUCHE entre 15/06/2023 e 21/06/2023,\"\n",
    "texto4 = \"com carga horária de aproximadamente 15 horas.\""
   ]
  },
  {
   "cell_type": "markdown",
   "metadata": {},
   "source": [
    "# Loop para gerar certificados para cada participante\n",
    "# Adicionando a imagem de fundo (template)\n",
    "# Salvando o PDF com um nome único"
   ]
  },
  {
   "cell_type": "code",
   "execution_count": null,
   "metadata": {},
   "outputs": [],
   "source": [
    "\n",
    "# Configurações de margem e página\n",
    "margem_cabecalho = 1.27  # em cm\n",
    "margem_rodape = 1.27  # em cm\n",
    "largura_pagina = 29.7  # cm\n",
    "altura_pagina = 21  # cm\n",
    "\n",
    "# Convertendo para mm\n",
    "margem_cabecalho_mm = margem_cabecalho * 10\n",
    "margem_rodape_mm = margem_rodape * 10\n",
    "largura_pagina_mm = largura_pagina * 10\n",
    "altura_pagina_mm = altura_pagina * 10\n",
    "\n",
    "pasta_destino = 'Certificados'\n",
    "\n",
    "\n",
    "# Função para centralizar o texto\n",
    "def centralizar_texto(pdf, texto, y_mm, font_size=15):\n",
    "    pdf.set_font(\"Arial\", 'B', size=font_size)\n",
    "    largura_texto = pdf.get_string_width(texto)\n",
    "    x_mm = (largura_pagina_mm - largura_texto) / 2\n",
    "    pdf.text(x_mm, y_mm, texto)\n",
    "\n",
    "for nome in dados['nomecompleto']:\n",
    "\n",
    "    pdf = FPDF(orientation='L', unit='mm', format='A4') \n",
    "    pdf.add_page()\n",
    "\n",
    "    pdf.image(\"template.png\", x=0, y=0, w=largura_pagina_mm)\n",
    "\n",
    "    pdf.set_left_margin(margem_cabecalho_mm)\n",
    "    pdf.set_right_margin(margem_rodape_mm)\n",
    "\n",
    "    pdf.set_text_color(33, 24, 136)\n",
    "    \n",
    "    # Ajustar posições para o formato horizontal\n",
    "    centralizar_texto(pdf, titulo, 50, 20)\n",
    "    centralizar_texto(pdf, subtitulo, 70, 12)\n",
    "    centralizar_texto(pdf, nome, 90, 15)\n",
    "    centralizar_texto(pdf, texto2, 110, 12)\n",
    "    centralizar_texto(pdf, texto3, 130, 12)\n",
    "    centralizar_texto(pdf, texto4, 150, 12)\n",
    "\n",
    "    # Salvando o PDF\n",
    "    caminho_arquivo = os.path.join(pasta_destino, f\"Certificado_{nome}.pdf\")\n",
    "    pdf.output(caminho_arquivo)\n",
    "    \n",
    "    print(\"Certificados gerados e salvos com sucesso na pasta:\", pasta_destino)\n"
   ]
  }
 ],
 "metadata": {
  "kernelspec": {
   "display_name": "Python 3",
   "language": "python",
   "name": "python3"
  },
  "language_info": {
   "codemirror_mode": {
    "name": "ipython",
    "version": 3
   },
   "file_extension": ".py",
   "mimetype": "text/x-python",
   "name": "python",
   "nbconvert_exporter": "python",
   "pygments_lexer": "ipython3",
   "version": "3.12.5"
  }
 },
 "nbformat": 4,
 "nbformat_minor": 2
}
